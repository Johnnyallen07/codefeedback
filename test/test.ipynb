{
 "cells": [
  {
   "cell_type": "code",
   "execution_count": 1,
   "outputs": [
    {
     "name": "stdout",
     "output_type": "stream",
     "text": [
      "Successfully loaded the extension\n"
     ]
    }
   ],
   "source": [
    "%load_ext codefeedback"
   ],
   "metadata": {
    "collapsed": false
   }
  },
  {
   "cell_type": "code",
   "execution_count": 2,
   "outputs": [
    {
     "name": "stdout",
     "output_type": "stream",
     "text": [
      "Successfully loaded required modules\n"
     ]
    }
   ],
   "source": [
    "import numpy as np\n",
    "%load_module"
   ],
   "metadata": {
    "collapsed": false
   }
  },
  {
   "cell_type": "code",
   "execution_count": 3,
   "outputs": [
    {
     "name": "stdout",
     "output_type": "stream",
     "text": [
      "Successfully loaded solutions from: answer.py\n"
     ]
    }
   ],
   "source": [
    "%load answer.py"
   ],
   "metadata": {
    "collapsed": false
   }
  },
  {
   "cell_type": "code",
   "execution_count": 4,
   "outputs": [
    {
     "name": "stdout",
     "output_type": "stream",
     "text": [
      "Wrong: ValueError of 'x': operands could not be broadcast together with shapes (31,) (61,) \n"
     ]
    }
   ],
   "source": [
    "def func(x):\n",
    "    y = 1 / (1+25*x**2)\n",
    "    #y = np.sin(x)\n",
    "\n",
    "    return y\n",
    "def Lagrangian(j,xn,xp):\n",
    "    # establish the number of nodes\n",
    "    n = len(xn)\n",
    "    # the order of the polynomial will then be n-1\n",
    "\n",
    "    # set the initial value of the polynomial to 1\n",
    "    L = 1\n",
    "    # range of k is from 0 to n-1 (the order of the polynomial)\n",
    "    for k in range(0,n):\n",
    "        # exclude the case k == j\n",
    "        if k != j:\n",
    "            L *= (xp-xn[k]) / (xn[j]-xn[k])\n",
    "    return L\n",
    "def LagInterp(xn,yn,x):\n",
    "    N = len(xn)\n",
    "    # establish the order of the interpolating polynomial, N-1\n",
    "    n = N - 1\n",
    "    y = np.ndarray(len(x))\n",
    "    # interpolate for all the values of x in the interpolating range\n",
    "    for i in range(len(x)):\n",
    "        # evaluate pn(xp)\n",
    "        yp = 0\n",
    "        # use Langrangian polynomial up to n, included\n",
    "        for j in range(0,n+1):\n",
    "            yp += yn[j] * Lagrangian(j,xn,x[i])\n",
    "        # add the curren value of yp to the list of y\n",
    "        y[i] = yp\n",
    "    return y\n",
    "a = 1 # lower interval\n",
    "b = 2 # upper interval\n",
    "N = 4 # number of nodes\n",
    "xn = np.linspace(a,b,N)\n",
    "\n",
    "yn = func(xn)\n",
    "\n",
    "# set the domain of interpolation\n",
    "dx = 0.1\n",
    "x = np.arange(0,3+dx,dx)\n",
    "\n",
    "y = LagInterp(xn,yn,x)\n",
    "\n",
    "%check task_a"
   ],
   "metadata": {
    "collapsed": false
   }
  },
  {
   "cell_type": "code",
   "execution_count": 5,
   "outputs": [
    {
     "name": "stdout",
     "output_type": "stream",
     "text": [
      "SyntaxError: Please contact your teacher to give correct answer!\n"
     ]
    }
   ],
   "source": [
    "\n",
    "a = 0\n",
    "b = [10,100,1000,10000]\n",
    "N = 5\n",
    "I = [] # generate an empty list where to store the results of I, for the various b\n",
    "for up in b:\n",
    "    # recompute the x interval\n",
    "    x = np.linspace(a,up,N+1)\n",
    "    # recompute y for these new nodes\n",
    "    y = 1/np.sqrt(x**17.10+2023)\n",
    "    h = x[1] - x[0]\n",
    "    # get the number of intervals\n",
    "    N = len(x) - 1  # obviously x and y must have same length\n",
    "\n",
    "    S = 0.0\n",
    "    for n in range(1,N):\n",
    "        S += y[n]  # add the current calue of y\n",
    "    # add first and last points: see the formula for trapezoidal method\n",
    "    I_delta = h * (y[0]/2 + S + y[-1]/2 )\n",
    "\n",
    "    # an alternative approach, with slicing and the function np.sum(), the integral can be computed within one line\n",
    "    I_delta = h * (y[0]/2 + np.sum(y[1:-1]) + y[-1]/2 )\n",
    "    I += [I_delta]\n",
    "\n",
    "%check task_b\n",
    "\n"
   ],
   "metadata": {
    "collapsed": false
   }
  },
  {
   "cell_type": "code",
   "execution_count": null,
   "outputs": [],
   "source": [],
   "metadata": {
    "collapsed": false
   }
  }
 ],
 "metadata": {
  "kernelspec": {
   "display_name": "Python 3",
   "language": "python",
   "name": "python3"
  },
  "language_info": {
   "codemirror_mode": {
    "name": "ipython",
    "version": 2
   },
   "file_extension": ".py",
   "mimetype": "text/x-python",
   "name": "python",
   "nbconvert_exporter": "python",
   "pygments_lexer": "ipython2",
   "version": "2.7.6"
  }
 },
 "nbformat": 4,
 "nbformat_minor": 0
}
