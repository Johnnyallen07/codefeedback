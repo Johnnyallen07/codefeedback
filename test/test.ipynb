{
 "cells": [
  {
   "cell_type": "code",
   "execution_count": 4,
   "outputs": [],
   "source": [
    "import codefeedback\n",
    "import numpy as np"
   ],
   "metadata": {
    "collapsed": false
   }
  },
  {
   "cell_type": "code",
   "execution_count": 5,
   "outputs": [],
   "source": [
    "%load_ext codefeedback"
   ],
   "metadata": {
    "collapsed": false
   }
  },
  {
   "cell_type": "code",
   "execution_count": 6,
   "outputs": [
    {
     "name": "stdout",
     "output_type": "stream",
     "text": [
      "Successfully loaded solutions from: answer.py\n"
     ]
    }
   ],
   "source": [
    "%load answer.py"
   ],
   "metadata": {
    "collapsed": false
   }
  },
  {
   "cell_type": "code",
   "execution_count": 7,
   "outputs": [
    {
     "name": "stdout",
     "output_type": "stream",
     "text": [
      "General check passed!\n"
     ]
    }
   ],
   "source": [
    "Dx = 0.1\n",
    "x = np.arange(-2*np.pi,2*np.pi+Dx,Dx)\n",
    "y = np.arange(-np.pi,2*np.pi+Dx,Dx)\n",
    "(Xg, Yg) = np.meshgrid(x,y)\n",
    "\n",
    "# compute f and g\n",
    "f_xy = np.sin(Xg)*np.cos(Yg)\n",
    "g_xy = np.cos(Xg)*np.sin(Yg)\n",
    "\n",
    "# B2\n",
    "# compute s and p\n",
    "s = f_xy + g_xy\n",
    "p = f_xy * g_xy\n",
    "\n",
    "%check task_a\n",
    "\n"
   ],
   "metadata": {
    "collapsed": false
   }
  },
  {
   "cell_type": "code",
   "execution_count": 3,
   "outputs": [
    {
     "name": "stdout",
     "output_type": "stream",
     "text": [
      "True\n"
     ]
    }
   ],
   "source": [
    "print(codefeedback.config(True))"
   ],
   "metadata": {
    "collapsed": false
   }
  },
  {
   "cell_type": "code",
   "execution_count": null,
   "outputs": [],
   "source": [],
   "metadata": {
    "collapsed": false
   }
  }
 ],
 "metadata": {
  "kernelspec": {
   "display_name": "Python 3",
   "language": "python",
   "name": "python3"
  },
  "language_info": {
   "codemirror_mode": {
    "name": "ipython",
    "version": 2
   },
   "file_extension": ".py",
   "mimetype": "text/x-python",
   "name": "python",
   "nbconvert_exporter": "python",
   "pygments_lexer": "ipython2",
   "version": "2.7.6"
  }
 },
 "nbformat": 4,
 "nbformat_minor": 0
}
